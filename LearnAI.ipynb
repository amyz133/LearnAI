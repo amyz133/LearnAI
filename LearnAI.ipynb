{
  "nbformat": 4,
  "nbformat_minor": 0,
  "metadata": {
    "colab": {
      "provenance": [],
      "authorship_tag": "ABX9TyMF789hvzGee5/Qs4mnCbPd"
    },
    "kernelspec": {
      "name": "python3",
      "display_name": "Python 3"
    },
    "language_info": {
      "name": "python"
    }
  },
  "cells": [
    {
      "cell_type": "code",
      "execution_count": null,
      "metadata": {
        "colab": {
          "base_uri": "https://localhost:8080/"
        },
        "id": "NYda0_hOLLj_",
        "outputId": "7283b085-1f9a-4327-d59d-917e2711bf8e"
      },
      "outputs": [
        {
          "output_type": "stream",
          "name": "stdout",
          "text": [
            "Collecting openai\n",
            "  Downloading openai-0.28.0-py3-none-any.whl (76 kB)\n",
            "\u001b[2K     \u001b[90m━━━━━━━━━━━━━━━━━━━━━━━━━━━━━━━━━━━━━━━━\u001b[0m \u001b[32m76.5/76.5 kB\u001b[0m \u001b[31m1.8 MB/s\u001b[0m eta \u001b[36m0:00:00\u001b[0m\n",
            "\u001b[?25hRequirement already satisfied: requests>=2.20 in /usr/local/lib/python3.10/dist-packages (from openai) (2.31.0)\n",
            "Requirement already satisfied: tqdm in /usr/local/lib/python3.10/dist-packages (from openai) (4.66.1)\n",
            "Requirement already satisfied: aiohttp in /usr/local/lib/python3.10/dist-packages (from openai) (3.8.5)\n",
            "Requirement already satisfied: charset-normalizer<4,>=2 in /usr/local/lib/python3.10/dist-packages (from requests>=2.20->openai) (3.2.0)\n",
            "Requirement already satisfied: idna<4,>=2.5 in /usr/local/lib/python3.10/dist-packages (from requests>=2.20->openai) (3.4)\n",
            "Requirement already satisfied: urllib3<3,>=1.21.1 in /usr/local/lib/python3.10/dist-packages (from requests>=2.20->openai) (2.0.4)\n",
            "Requirement already satisfied: certifi>=2017.4.17 in /usr/local/lib/python3.10/dist-packages (from requests>=2.20->openai) (2023.7.22)\n",
            "Requirement already satisfied: attrs>=17.3.0 in /usr/local/lib/python3.10/dist-packages (from aiohttp->openai) (23.1.0)\n",
            "Requirement already satisfied: multidict<7.0,>=4.5 in /usr/local/lib/python3.10/dist-packages (from aiohttp->openai) (6.0.4)\n",
            "Requirement already satisfied: async-timeout<5.0,>=4.0.0a3 in /usr/local/lib/python3.10/dist-packages (from aiohttp->openai) (4.0.3)\n",
            "Requirement already satisfied: yarl<2.0,>=1.0 in /usr/local/lib/python3.10/dist-packages (from aiohttp->openai) (1.9.2)\n",
            "Requirement already satisfied: frozenlist>=1.1.1 in /usr/local/lib/python3.10/dist-packages (from aiohttp->openai) (1.4.0)\n",
            "Requirement already satisfied: aiosignal>=1.1.2 in /usr/local/lib/python3.10/dist-packages (from aiohttp->openai) (1.3.1)\n",
            "Installing collected packages: openai\n",
            "Successfully installed openai-0.28.0\n"
          ]
        }
      ],
      "source": [
        "!pip install openai"
      ]
    },
    {
      "cell_type": "code",
      "source": [
        "import openai\n",
        "openai.api_key = \"\""
      ],
      "metadata": {
        "id": "VXkKf0OtL3ki"
      },
      "execution_count": null,
      "outputs": []
    },
    {
      "cell_type": "code",
      "source": [
        "messages = [\n",
        "    {\"role\": \"system\", \"content\": \"Your are a helpful and kind AI Assistant.\"},\n",
        "]\n",
        "\n",
        "def chatbot(input):\n",
        "  if input:\n",
        "    messages.append({\"role\": \"user\", \"content\": \"Recommend \" + input[3] + \" books on \" + input[0] + \" for \" + input[1] + \" for \" + input[2] + \"year olds.\"})\n",
        "    chat = openai.ChatCompletion.create(\n",
        "        model=\"gpt-3.5-turbo\", messages=messages\n",
        "    )\n",
        "    reply = chat.choices[0].message.content\n",
        "    messages.append({\"role\": \"assistant\", \"content\": reply})\n",
        "    return reply\n",
        "\n"
      ],
      "metadata": {
        "id": "Vzd45IA8L97x"
      },
      "execution_count": null,
      "outputs": []
    },
    {
      "cell_type": "code",
      "source": [
        "# Define a list of questions\n",
        "questions = [\n",
        "    \"What is the topic you want to learn about?\",\n",
        "    \"What is the purpose of the book you want?\",\n",
        "    \"What is the age level reading this book?\",\n",
        "    \"How many book recommendation do you want?\"\n",
        "]\n",
        "\n",
        "# Initialize an empty dictionary to store responses\n",
        "responses = []\n",
        "\n",
        "# Collect responses from the user\n",
        "print(\"Please answer the following questions:\")\n",
        "for question in questions:\n",
        "    response = input(question + \" \")\n",
        "    responses.append(response)\n",
        "\n",
        "\n",
        "answer = chatbot(responses)\n",
        "print(answer)"
      ],
      "metadata": {
        "colab": {
          "base_uri": "https://localhost:8080/"
        },
        "id": "otkKnw3Adddb",
        "outputId": "42b625dc-a325-4ee0-9881-574b662e0c61"
      },
      "execution_count": null,
      "outputs": [
        {
          "output_type": "stream",
          "name": "stdout",
          "text": [
            "Please answer the following questions:\n",
            "What is the topic you want to learn about? math\n",
            "What is the purpose of the book you want? education\n",
            "What is the age level reading this book? 5\n",
            "How many book recommendation do you want? 5\n",
            "1. \"Math Fables: Lessons That Count\" by Greg Tang and Heather Cahoon - This book uses simple stories and colorful illustrations to introduce basic math concepts like counting, addition, subtraction, and shapes.\n",
            "\n",
            "2. \"Counting with Barefoot Critters\" by Teagan White - This delightful book follows a group of animal friends as they go on a counting adventure. It introduces numbers and counting in a fun and engaging way.\n",
            "\n",
            "3. \"Mouse Count\" by Ellen Stoll Walsh - In this book, a group of mice encounter a snake. They cleverly use counting and subtraction to outsmart the snake and make their escape. It's a great introduction to numbers and simple subtraction.\n",
            "\n",
            "4. \"Ten Apples Up on Top!\" by Dr. Seuss - Written in classic Dr. Seuss style, this book tells the story of three playful animals who balance apples on their heads and challenge one another to see who can stack the most. It's a fun way for young children to learn about counting and basic addition.\n",
            "\n",
            "5. \"Math Curse\" by Jon Scieszka and Lane Smith - This humorous book tells the story of a child who wakes up one morning to find that everything has turned into a math problem. While the child may initially see it as a curse, they soon realize the fun and usefulness of math in everyday life. It introduces various math concepts and encourages critical thinking.\n"
          ]
        }
      ]
    },
    {
      "cell_type": "code",
      "source": [
        "!pip install langchain\n",
        "!pip install openai"
      ],
      "metadata": {
        "colab": {
          "base_uri": "https://localhost:8080/"
        },
        "id": "8ekY7L6O_3g5",
        "outputId": "a79b9f57-b4ab-4943-d130-1ce372994069"
      },
      "execution_count": null,
      "outputs": [
        {
          "output_type": "stream",
          "name": "stdout",
          "text": [
            "Collecting langchain\n",
            "  Downloading langchain-0.0.277-py3-none-any.whl (1.6 MB)\n",
            "\u001b[?25l     \u001b[90m━━━━━━━━━━━━━━━━━━━━━━━━━━━━━━━━━━━━━━━━\u001b[0m \u001b[32m0.0/1.6 MB\u001b[0m \u001b[31m?\u001b[0m eta \u001b[36m-:--:--\u001b[0m\r\u001b[2K     \u001b[91m━━━━━━━━━━━━\u001b[0m\u001b[90m╺\u001b[0m\u001b[90m━━━━━━━━━━━━━━━━━━━━━━━━━━━\u001b[0m \u001b[32m0.5/1.6 MB\u001b[0m \u001b[31m14.5 MB/s\u001b[0m eta \u001b[36m0:00:01\u001b[0m\r\u001b[2K     \u001b[90m━━━━━━━━━━━━━━━━━━━━━━━━━━━━━━━━━━━━━━━━\u001b[0m \u001b[32m1.6/1.6 MB\u001b[0m \u001b[31m27.7 MB/s\u001b[0m eta \u001b[36m0:00:00\u001b[0m\n",
            "\u001b[?25hRequirement already satisfied: PyYAML>=5.3 in /usr/local/lib/python3.10/dist-packages (from langchain) (6.0.1)\n",
            "Requirement already satisfied: SQLAlchemy<3,>=1.4 in /usr/local/lib/python3.10/dist-packages (from langchain) (2.0.20)\n",
            "Requirement already satisfied: aiohttp<4.0.0,>=3.8.3 in /usr/local/lib/python3.10/dist-packages (from langchain) (3.8.5)\n",
            "Requirement already satisfied: async-timeout<5.0.0,>=4.0.0 in /usr/local/lib/python3.10/dist-packages (from langchain) (4.0.3)\n",
            "Collecting dataclasses-json<0.6.0,>=0.5.7 (from langchain)\n",
            "  Downloading dataclasses_json-0.5.14-py3-none-any.whl (26 kB)\n",
            "Collecting langsmith<0.1.0,>=0.0.21 (from langchain)\n",
            "  Downloading langsmith-0.0.30-py3-none-any.whl (35 kB)\n",
            "Requirement already satisfied: numexpr<3.0.0,>=2.8.4 in /usr/local/lib/python3.10/dist-packages (from langchain) (2.8.5)\n",
            "Requirement already satisfied: numpy<2,>=1 in /usr/local/lib/python3.10/dist-packages (from langchain) (1.23.5)\n",
            "Requirement already satisfied: pydantic<3,>=1 in /usr/local/lib/python3.10/dist-packages (from langchain) (2.2.1)\n",
            "Requirement already satisfied: requests<3,>=2 in /usr/local/lib/python3.10/dist-packages (from langchain) (2.31.0)\n",
            "Requirement already satisfied: tenacity<9.0.0,>=8.1.0 in /usr/local/lib/python3.10/dist-packages (from langchain) (8.2.3)\n",
            "Requirement already satisfied: attrs>=17.3.0 in /usr/local/lib/python3.10/dist-packages (from aiohttp<4.0.0,>=3.8.3->langchain) (23.1.0)\n",
            "Requirement already satisfied: charset-normalizer<4.0,>=2.0 in /usr/local/lib/python3.10/dist-packages (from aiohttp<4.0.0,>=3.8.3->langchain) (3.2.0)\n",
            "Requirement already satisfied: multidict<7.0,>=4.5 in /usr/local/lib/python3.10/dist-packages (from aiohttp<4.0.0,>=3.8.3->langchain) (6.0.4)\n",
            "Requirement already satisfied: yarl<2.0,>=1.0 in /usr/local/lib/python3.10/dist-packages (from aiohttp<4.0.0,>=3.8.3->langchain) (1.9.2)\n",
            "Requirement already satisfied: frozenlist>=1.1.1 in /usr/local/lib/python3.10/dist-packages (from aiohttp<4.0.0,>=3.8.3->langchain) (1.4.0)\n",
            "Requirement already satisfied: aiosignal>=1.1.2 in /usr/local/lib/python3.10/dist-packages (from aiohttp<4.0.0,>=3.8.3->langchain) (1.3.1)\n",
            "Collecting marshmallow<4.0.0,>=3.18.0 (from dataclasses-json<0.6.0,>=0.5.7->langchain)\n",
            "  Downloading marshmallow-3.20.1-py3-none-any.whl (49 kB)\n",
            "\u001b[2K     \u001b[90m━━━━━━━━━━━━━━━━━━━━━━━━━━━━━━━━━━━━━━━━\u001b[0m \u001b[32m49.4/49.4 kB\u001b[0m \u001b[31m5.0 MB/s\u001b[0m eta \u001b[36m0:00:00\u001b[0m\n",
            "\u001b[?25hCollecting typing-inspect<1,>=0.4.0 (from dataclasses-json<0.6.0,>=0.5.7->langchain)\n",
            "  Downloading typing_inspect-0.9.0-py3-none-any.whl (8.8 kB)\n",
            "Requirement already satisfied: annotated-types>=0.4.0 in /usr/local/lib/python3.10/dist-packages (from pydantic<3,>=1->langchain) (0.5.0)\n",
            "Requirement already satisfied: pydantic-core==2.6.1 in /usr/local/lib/python3.10/dist-packages (from pydantic<3,>=1->langchain) (2.6.1)\n",
            "Requirement already satisfied: typing-extensions>=4.6.1 in /usr/local/lib/python3.10/dist-packages (from pydantic<3,>=1->langchain) (4.7.1)\n",
            "Requirement already satisfied: idna<4,>=2.5 in /usr/local/lib/python3.10/dist-packages (from requests<3,>=2->langchain) (3.4)\n",
            "Requirement already satisfied: urllib3<3,>=1.21.1 in /usr/local/lib/python3.10/dist-packages (from requests<3,>=2->langchain) (2.0.4)\n",
            "Requirement already satisfied: certifi>=2017.4.17 in /usr/local/lib/python3.10/dist-packages (from requests<3,>=2->langchain) (2023.7.22)\n",
            "Requirement already satisfied: greenlet!=0.4.17 in /usr/local/lib/python3.10/dist-packages (from SQLAlchemy<3,>=1.4->langchain) (2.0.2)\n",
            "Requirement already satisfied: packaging>=17.0 in /usr/local/lib/python3.10/dist-packages (from marshmallow<4.0.0,>=3.18.0->dataclasses-json<0.6.0,>=0.5.7->langchain) (23.1)\n",
            "Collecting mypy-extensions>=0.3.0 (from typing-inspect<1,>=0.4.0->dataclasses-json<0.6.0,>=0.5.7->langchain)\n",
            "  Downloading mypy_extensions-1.0.0-py3-none-any.whl (4.7 kB)\n",
            "Installing collected packages: mypy-extensions, marshmallow, typing-inspect, langsmith, dataclasses-json, langchain\n",
            "Successfully installed dataclasses-json-0.5.14 langchain-0.0.277 langsmith-0.0.30 marshmallow-3.20.1 mypy-extensions-1.0.0 typing-inspect-0.9.0\n",
            "Collecting openai\n",
            "  Downloading openai-0.27.10-py3-none-any.whl (76 kB)\n",
            "\u001b[2K     \u001b[90m━━━━━━━━━━━━━━━━━━━━━━━━━━━━━━━━━━━━━━━━\u001b[0m \u001b[32m76.5/76.5 kB\u001b[0m \u001b[31m2.8 MB/s\u001b[0m eta \u001b[36m0:00:00\u001b[0m\n",
            "\u001b[?25hRequirement already satisfied: requests>=2.20 in /usr/local/lib/python3.10/dist-packages (from openai) (2.31.0)\n",
            "Requirement already satisfied: tqdm in /usr/local/lib/python3.10/dist-packages (from openai) (4.66.1)\n",
            "Requirement already satisfied: aiohttp in /usr/local/lib/python3.10/dist-packages (from openai) (3.8.5)\n",
            "Requirement already satisfied: charset-normalizer<4,>=2 in /usr/local/lib/python3.10/dist-packages (from requests>=2.20->openai) (3.2.0)\n",
            "Requirement already satisfied: idna<4,>=2.5 in /usr/local/lib/python3.10/dist-packages (from requests>=2.20->openai) (3.4)\n",
            "Requirement already satisfied: urllib3<3,>=1.21.1 in /usr/local/lib/python3.10/dist-packages (from requests>=2.20->openai) (2.0.4)\n",
            "Requirement already satisfied: certifi>=2017.4.17 in /usr/local/lib/python3.10/dist-packages (from requests>=2.20->openai) (2023.7.22)\n",
            "Requirement already satisfied: attrs>=17.3.0 in /usr/local/lib/python3.10/dist-packages (from aiohttp->openai) (23.1.0)\n",
            "Requirement already satisfied: multidict<7.0,>=4.5 in /usr/local/lib/python3.10/dist-packages (from aiohttp->openai) (6.0.4)\n",
            "Requirement already satisfied: async-timeout<5.0,>=4.0.0a3 in /usr/local/lib/python3.10/dist-packages (from aiohttp->openai) (4.0.3)\n",
            "Requirement already satisfied: yarl<2.0,>=1.0 in /usr/local/lib/python3.10/dist-packages (from aiohttp->openai) (1.9.2)\n",
            "Requirement already satisfied: frozenlist>=1.1.1 in /usr/local/lib/python3.10/dist-packages (from aiohttp->openai) (1.4.0)\n",
            "Requirement already satisfied: aiosignal>=1.1.2 in /usr/local/lib/python3.10/dist-packages (from aiohttp->openai) (1.3.1)\n",
            "Installing collected packages: openai\n",
            "Successfully installed openai-0.27.10\n"
          ]
        }
      ]
    },
    {
      "cell_type": "code",
      "source": [
        "from langchain.chains import LLMChain, SimpleSequentialChain # import LangChain libraries\n",
        "from langchain.llms import OpenAI # import OpenAI model\n",
        "from langchain.prompts import PromptTemplate # import PromptTemplate"
      ],
      "metadata": {
        "id": "yQ44fOvf_7Ky"
      },
      "execution_count": null,
      "outputs": []
    },
    {
      "cell_type": "code",
      "source": [
        "llm = OpenAI(temperature=0.7, openai_api_key=\"\")"
      ],
      "metadata": {
        "id": "e1fasTo6AABn"
      },
      "execution_count": null,
      "outputs": []
    },
    {
      "cell_type": "code",
      "source": [
        "user_question = \"How can I get a 10 on the AP Exam?\""
      ],
      "metadata": {
        "id": "NpOj1YPQADTu"
      },
      "execution_count": null,
      "outputs": []
    },
    {
      "cell_type": "code",
      "source": [
        "# Chain 1: Generating a rephrased version of the user's question\n",
        "\n",
        "template = \"\"\"{question}\\n\\n\"\"\"\n",
        "prompt_template = PromptTemplate(input_variables=[\"question\"], template=template)\n",
        "question_chain = LLMChain(llm=llm, prompt=prompt_template)\n",
        "\n",
        "# Chain 2: Generating assumptions made in the statement\n",
        "\n",
        "template = \"\"\"Here is a statement:\n",
        "{statement}\n",
        "Make a bullet point list of the assumptions you made when producing the above statement. Consider limits to AP exam scores.\\n\\n\"\"\"\n",
        "prompt_template = PromptTemplate(input_variables=[\"statement\"], template=template)\n",
        "assumptions_chain = LLMChain(llm=llm, prompt=prompt_template)\n",
        "\n",
        "# Chain 3: Fact checking the assumptions\n",
        "\n",
        "template = \"\"\"Here is a bullet point list of assertions:\n",
        "{assertions}\n",
        "For each assertion, determine whether it is true or false. If it is false, explain why.\\n\\n\"\"\"\n",
        "prompt_template = PromptTemplate(input_variables=[\"assertions\"], template=template)\n",
        "fact_checker_chain = LLMChain(llm=llm, prompt=prompt_template)\n",
        "\n",
        "# Final Chain: Generating the final answer to the user's question based on the facts and assumptions\n",
        "\n",
        "template = \"\"\"In light of the above facts, how would you answer the question '{}'\"\"\".format(user_question)\n",
        "template = \"\"\"{facts}\\n\"\"\" + template\n",
        "prompt_template = PromptTemplate(input_variables=[\"facts\"], template=template)\n",
        "answer_chain = LLMChain(llm=llm, prompt=prompt_template)\n",
        "\n",
        "# Running all the chains on the user's question and displaying the final answer\n",
        "\n",
        "overall_chain = SimpleSequentialChain(chains=[question_chain, assumptions_chain, fact_checker_chain, answer_chain], verbose=True)"
      ],
      "metadata": {
        "id": "QUqQKbmcBZdn"
      },
      "execution_count": null,
      "outputs": []
    },
    {
      "cell_type": "code",
      "source": [
        "print(user_question)\n",
        "overall_chain.run(user_question)"
      ],
      "metadata": {
        "colab": {
          "base_uri": "https://localhost:8080/",
          "height": 599
        },
        "id": "DMILJeQ1CNtR",
        "outputId": "c42a035a-51e3-4657-c6de-58bbb81a38c2"
      },
      "execution_count": null,
      "outputs": [
        {
          "output_type": "stream",
          "name": "stdout",
          "text": [
            "How can I get a 10 on the AP Exam?\n",
            "\n",
            "\n",
            "\u001b[1m> Entering new SimpleSequentialChain chain...\u001b[0m\n",
            "\u001b[36;1m\u001b[1;3m\n",
            "The best way to get a 10 on the AP Exam is to thoroughly prepare for the exam. Start by reviewing the course material and familiarizing yourself with the exam format. Practice with released AP exams, review any concepts you may have missed, and create a study plan to help keep you organized. Additionally, make sure to get plenty of rest and eat a balanced breakfast before the exam. Finally, take a few deep breaths before you start and focus on doing your best. Good luck!\u001b[0m\n",
            "\u001b[33;1m\u001b[1;3m\n",
            "• AP exam scores are limited to a 10\n",
            "• It is possible to prepare for the AP exam\n",
            "• Reviewing course material and familiarizing yourself with the exam format is beneficial\n",
            "• Practicing with released AP exams is beneficial\n",
            "• Reviewing any missed concepts is beneficial\n",
            "• Creating a study plan is beneficial\n",
            "• Getting plenty of rest and eating a balanced breakfast are beneficial\n",
            "• Taking a few deep breaths and focusing on doing your best is beneficial\u001b[0m\n",
            "\u001b[38;5;200m\u001b[1;3m• AP exam scores are limited to a 10 - True\n",
            "• It is possible to prepare for the AP exam - True\n",
            "• Reviewing course material and familiarizing yourself with the exam format is beneficial - True\n",
            "• Practicing with released AP exams is beneficial - True\n",
            "• Reviewing any missed concepts is beneficial - True\n",
            "• Creating a study plan is beneficial - True\n",
            "• Getting plenty of rest and eating a balanced breakfast are beneficial - True\n",
            "• Taking a few deep breaths and focusing on doing your best is beneficial - True\u001b[0m\n",
            "\u001b[32;1m\u001b[1;3m\n",
            "\n",
            "To get a 10 on the AP Exam, it is important to develop a study plan that includes reviewing all course material, familiarizing yourself with the exam format, and practicing with released AP exams. Additionally, it is important to review any missed concepts, get plenty of rest, eat a balanced breakfast, and take a few deep breaths before the exam to help you focus and do your best.\u001b[0m\n",
            "\n",
            "\u001b[1m> Finished chain.\u001b[0m\n"
          ]
        },
        {
          "output_type": "execute_result",
          "data": {
            "text/plain": [
              "'\\n\\nTo get a 10 on the AP Exam, it is important to develop a study plan that includes reviewing all course material, familiarizing yourself with the exam format, and practicing with released AP exams. Additionally, it is important to review any missed concepts, get plenty of rest, eat a balanced breakfast, and take a few deep breaths before the exam to help you focus and do your best.'"
            ],
            "application/vnd.google.colaboratory.intrinsic+json": {
              "type": "string"
            }
          },
          "metadata": {},
          "execution_count": 33
        }
      ]
    },
    {
      "cell_type": "code",
      "source": [
        "# Define a list of questions\n",
        "questions = [\n",
        "    \"What is your name?\",\n",
        "    \"How old are you?\",\n",
        "    \"Where do you live?\",\n",
        "    \"What is your favorite color?\",\n",
        "]\n",
        "\n",
        "# Initialize an empty dictionary to store responses\n",
        "responses = {}\n",
        "\n",
        "# Collect responses from the user\n",
        "print(\"Please answer the following questions:\")\n",
        "for question in questions:\n",
        "    response = input(question + \" \")\n",
        "    responses[question] = response\n",
        "\n",
        "# Display collected responses\n",
        "print(\"\\nCollected Responses:\")\n",
        "for question, response in responses.items():\n",
        "    print(f\"{question}: {response}\")\n"
      ],
      "metadata": {
        "colab": {
          "base_uri": "https://localhost:8080/"
        },
        "id": "jn4MrZN7K0_I",
        "outputId": "f52a0f5a-c1bc-4a7d-b22a-512897a87e74"
      },
      "execution_count": null,
      "outputs": [
        {
          "output_type": "stream",
          "name": "stdout",
          "text": [
            "Please answer the following questions:\n",
            "What is your name? A\n",
            "How old are you? 11\n",
            "Where do you live? here\n",
            "What is your favorite color? black\n",
            "\n",
            "Collected Responses:\n",
            "What is your name?: A\n",
            "How old are you?: 11\n",
            "Where do you live?: here\n",
            "What is your favorite color?: black\n"
          ]
        }
      ]
    }
  ]
}